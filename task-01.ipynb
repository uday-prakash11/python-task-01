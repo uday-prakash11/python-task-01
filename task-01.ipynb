{
 "cells": [
  {
   "cell_type": "markdown",
   "id": "85984ae7",
   "metadata": {},
   "source": [
    "1. Write a Python program that accepts the user's first and last name and prints them in reverse order with a space between them."
   ]
  },
  {
   "cell_type": "code",
   "execution_count": 10,
   "id": "8833dcc8",
   "metadata": {},
   "outputs": [
    {
     "name": "stdout",
     "output_type": "stream",
     "text": [
      "First name: uday\n",
      "Last name: prakash\n",
      "Prakash Uday\n"
     ]
    }
   ],
   "source": [
    "first_name = input('First name: ').capitalize()\n",
    "last_name = input('Last name: ').capitalize()\n",
    "print(last_name,first_name)"
   ]
  },
  {
   "cell_type": "markdown",
   "id": "cf11cceb",
   "metadata": {},
   "source": [
    "2. Write a Python program that accepts an integer (n) and computes the value of n+nn+nnn."
   ]
  },
  {
   "cell_type": "code",
   "execution_count": 12,
   "id": "1c174429",
   "metadata": {},
   "outputs": [
    {
     "name": "stdout",
     "output_type": "stream",
     "text": [
      "Enter an integer: 56\n",
      "n+nn+nnn =  571368\n"
     ]
    }
   ],
   "source": [
    "n = int(input(\"Enter an integer: \"))\n",
    "n_sum = n + int(str(n) + str(n)) + int(str(n) + str(n) + str(n))\n",
    "print(\"n+nn+nnn = \",n_sum)"
   ]
  },
  {
   "cell_type": "markdown",
   "id": "f9f5d93e",
   "metadata": {},
   "source": [
    "3.Display three string “Name”, “Is”, “James” as “Name**Is**James”."
   ]
  },
  {
   "cell_type": "code",
   "execution_count": 13,
   "id": "692542ed",
   "metadata": {},
   "outputs": [
    {
     "name": "stdout",
     "output_type": "stream",
     "text": [
      "Name**Is**James\n"
     ]
    }
   ],
   "source": [
    "a = \"Name\"\n",
    "b = \"Is\"\n",
    "c= \"James\"\n",
    "result =a+\"**\"+b+\"**\"+c\n",
    "print(result)"
   ]
  },
  {
   "cell_type": "markdown",
   "id": "391d4549",
   "metadata": {},
   "source": [
    "4.Display float number with 2 decimal places using print()."
   ]
  },
  {
   "cell_type": "code",
   "execution_count": 14,
   "id": "d758d680",
   "metadata": {},
   "outputs": [
    {
     "name": "stdout",
     "output_type": "stream",
     "text": [
      "3.14\n"
     ]
    }
   ],
   "source": [
    "num = 3.14159\n",
    "print(\"{:.2f}\".format(num))"
   ]
  },
  {
   "cell_type": "markdown",
   "id": "b0288f98",
   "metadata": {},
   "source": [
    "5.Accept any three string from one input() call. "
   ]
  },
  {
   "cell_type": "code",
   "execution_count": 30,
   "id": "19f1d12d",
   "metadata": {},
   "outputs": [
    {
     "name": "stdout",
     "output_type": "stream",
     "text": [
      "Enter three strings separated by space: where are you\n",
      "  where are you\n"
     ]
    }
   ],
   "source": [
    "input_str = input(\"Enter three strings separated by space: \")\n",
    "string_list = input_str.split()\n",
    "\n",
    "if len(string_list)!=3:\n",
    "    print(\"Error!\")\n",
    "else:\n",
    "    a,b,c=string_list\n",
    "    print(\" \",a,b,c)\n"
   ]
  },
  {
   "cell_type": "code",
   "execution_count": null,
   "id": "b8e085c3",
   "metadata": {},
   "outputs": [],
   "source": []
  }
 ],
 "metadata": {
  "kernelspec": {
   "display_name": "Python 3 (ipykernel)",
   "language": "python",
   "name": "python3"
  },
  "language_info": {
   "codemirror_mode": {
    "name": "ipython",
    "version": 3
   },
   "file_extension": ".py",
   "mimetype": "text/x-python",
   "name": "python",
   "nbconvert_exporter": "python",
   "pygments_lexer": "ipython3",
   "version": "3.9.12"
  }
 },
 "nbformat": 4,
 "nbformat_minor": 5
}
